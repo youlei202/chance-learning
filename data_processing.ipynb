{
 "cells": [
  {
   "cell_type": "code",
   "execution_count": 1,
   "metadata": {
    "collapsed": true
   },
   "outputs": [],
   "source": [
    "import csv\n",
    "import pandas as pd\n",
    "import numpy as np\n",
    "from math import *"
   ]
  },
  {
   "cell_type": "code",
   "execution_count": 2,
   "metadata": {
    "collapsed": true
   },
   "outputs": [],
   "source": [
    "filename = 'OD_EU_Cellular_100m.csv'\n",
    "with open(filename, 'r') as f:\n",
    "    raw_data_100m = csv.reader(f)\n",
    "    raw_data_100m_list = list(raw_data_100m)\n",
    "    raw_data_100m_list = np.array(raw_data_100m_list)\n",
    "    \n",
    "sample_num = len(raw_data_100m_list)\n",
    "    \n",
    "raw_data_100m_dict = {'Cell grid code': np.array(raw_data_100m_list[:,0]),\n",
    "                      'X coordinate (int)': np.array(raw_data_100m_list[:,1]),\n",
    "                      'Y coordinate (int)': np.array(raw_data_100m_list[:,2]),\n",
    "                      'Technology of connection': np.array(raw_data_100m_list[:,3]),\n",
    "                      'Signal strength (dBm)': np.array(map(float,raw_data_100m_list[:,4])),\n",
    "                      'Standard deviation': np.array(raw_data_100m_list[:,5]),\n",
    "                      'Measurements': np.array(raw_data_100m_list[:,6])\n",
    "                     }"
   ]
  },
  {
   "cell_type": "code",
   "execution_count": 5,
   "metadata": {
    "collapsed": true
   },
   "outputs": [],
   "source": [
    "def dB2Linear( snr_in_dB ):\n",
    "    snr_in_linear = np.power( 10, snr_in_dB/10 )\n",
    "    return snr_in_linear"
   ]
  },
  {
   "cell_type": "code",
   "execution_count": 7,
   "metadata": {
    "collapsed": true
   },
   "outputs": [],
   "source": [
    "user_num = 10\n",
    "per_user_sample_num = int(sample_num / user_num)\n",
    "user_signal_list_dB = np.array( [ [ raw_data_100m_dict['Signal strength (dBm)'][i*per_user_sample_num + j ] \n",
    "                                for j in range(per_user_sample_num) ] for i in range(user_num) ] )"
   ]
  },
  {
   "cell_type": "code",
   "execution_count": 8,
   "metadata": {
    "collapsed": true
   },
   "outputs": [],
   "source": [
    "user_signal_list = map(dB2Linear, user_signal_list_dB) \n",
    "# row is for each user, and there is 10 rows in total (i.e. 10 users in total)\n",
    "# column is for sample, and for each user there is 15950 samples in total"
   ]
  },
  {
   "cell_type": "code",
   "execution_count": 9,
   "metadata": {
    "collapsed": true
   },
   "outputs": [],
   "source": [
    "%matplotlib inline"
   ]
  },
  {
   "cell_type": "code",
   "execution_count": 10,
   "metadata": {
    "collapsed": true
   },
   "outputs": [],
   "source": [
    "import matplotlib.pyplot as plt"
   ]
  },
  {
   "cell_type": "code",
   "execution_count": 11,
   "metadata": {},
   "outputs": [
    {
     "data": {
      "image/png": "[encoded data removed]",
      "text/plain": [
       "<Figure size 432x288 with 1 Axes>"
      ]
     },
     "metadata": {},
     "output_type": "display_data"
    }
   ],
   "source": [
    "plt.hist(user_signal_list_dB[9].tolist(),200);"
   ]
  },
  {
   "cell_type": "code",
   "execution_count": 68,
   "metadata": {
    "collapsed": true
   },
   "outputs": [],
   "source": [
    "from sklearn.neighbors.kde import KernelDensity"
   ]
  },
  {
   "cell_type": "code",
   "execution_count": 69,
   "metadata": {
    "collapsed": true
   },
   "outputs": [],
   "source": [
    "X = user_signal_list_dB[0][:, np.newaxis]"
   ]
  },
  {
   "cell_type": "code",
   "execution_count": 100,
   "metadata": {
    "collapsed": true
   },
   "outputs": [],
   "source": [
    "X_plot = np.linspace(-120, -30, 1000)[:, np.newaxis]"
   ]
  },
  {
   "cell_type": "code",
   "execution_count": 101,
   "metadata": {},
   "outputs": [
    {
     "data": {
      "image/png": "[encoded data removed]",
      "text/plain": [
       "<Figure size 432x288 with 1 Axes>"
      ]
     },
     "metadata": {},
     "output_type": "display_data"
    }
   ],
   "source": [
    "for kernel in ['gaussian', 'tophat', 'epanechnikov']:\n",
    "    kde = KernelDensity(kernel=kernel, bandwidth=0.5).fit(X)\n",
    "    log_dens = kde.score_samples(X_plot)\n",
    "    plt.plot(X_plot[:, 0], np.exp(log_dens), '-',\n",
    "            label=\"kernel = '{0}'\".format(kernel))"
   ]
  },
  {
   "cell_type": "code",
   "execution_count": null,
   "metadata": {
    "collapsed": true
   },
   "outputs": [],
   "source": []
  }
 ],
 "metadata": {
  "kernelspec": {
   "display_name": "Python 2",
   "language": "python",
   "name": "python2"
  },
  "language_info": {
   "codemirror_mode": {
    "name": "ipython",
    "version": 2
   },
   "file_extension": ".py",
   "mimetype": "text/x-python",
   "name": "python",
   "nbconvert_exporter": "python",
   "pygments_lexer": "ipython2",
   "version": "2.7.13"
  }
 },
 "nbformat": 4,
 "nbformat_minor": 2
}
